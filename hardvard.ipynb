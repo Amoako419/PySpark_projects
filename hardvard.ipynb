{
 "cells": [
  {
   "cell_type": "markdown",
   "metadata": {},
   "source": [
    "## PySpark Dataframe\n",
    "#### This is a short introduction and quickstart for the PySpark DataFrame API. PySpark DataFrames are lazily evaluated.\n",
    "#### They are implemented on top of RDDs. \n",
    "#### When Spark transforms data, it does not immediately compute the transformation but plans how to compute later. \n",
    "#### When actions such as collect() are explicitly called, the computation starts."
   ]
  },
  {
   "cell_type": "code",
   "execution_count": 1,
   "metadata": {},
   "outputs": [
    {
     "name": "stderr",
     "output_type": "stream",
     "text": [
      "25/01/25 22:38:44 WARN Utils: Your hostname, Amoakos-MacBook-Air.local resolves to a loopback address: 127.0.0.1; using 172.20.10.12 instead (on interface en0)\n",
      "25/01/25 22:38:44 WARN Utils: Set SPARK_LOCAL_IP if you need to bind to another address\n",
      "Setting default log level to \"WARN\".\n",
      "To adjust logging level use sc.setLogLevel(newLevel). For SparkR, use setLogLevel(newLevel).\n",
      "25/01/25 22:38:45 WARN NativeCodeLoader: Unable to load native-hadoop library for your platform... using builtin-java classes where applicable\n"
     ]
    }
   ],
   "source": [
    "from pyspark.sql import SparkSession\n",
    "\n",
    "spark = SparkSession.builder.getOrCreate()"
   ]
  },
  {
   "cell_type": "code",
   "execution_count": 2,
   "metadata": {},
   "outputs": [
    {
     "data": {
      "text/html": [
       "\n",
       "            <div>\n",
       "                <p><b>SparkSession - in-memory</b></p>\n",
       "                \n",
       "        <div>\n",
       "            <p><b>SparkContext</b></p>\n",
       "\n",
       "            <p><a href=\"http://172.20.10.12:4040\">Spark UI</a></p>\n",
       "\n",
       "            <dl>\n",
       "              <dt>Version</dt>\n",
       "                <dd><code>v3.5.3</code></dd>\n",
       "              <dt>Master</dt>\n",
       "                <dd><code>local[*]</code></dd>\n",
       "              <dt>AppName</dt>\n",
       "                <dd><code>pyspark-shell</code></dd>\n",
       "            </dl>\n",
       "        </div>\n",
       "        \n",
       "            </div>\n",
       "        "
      ],
      "text/plain": [
       "<pyspark.sql.session.SparkSession at 0x111ea5ed0>"
      ]
     },
     "execution_count": 2,
     "metadata": {},
     "output_type": "execute_result"
    }
   ],
   "source": [
    "spark"
   ]
  },
  {
   "cell_type": "code",
   "execution_count": 4,
   "metadata": {},
   "outputs": [],
   "source": [
    "df = spark.read.csv('appendix.csv', header=True)"
   ]
  },
  {
   "cell_type": "code",
   "execution_count": 5,
   "metadata": {},
   "outputs": [
    {
     "name": "stdout",
     "output_type": "stream",
     "text": [
      "+-----------+-------------+-----------+--------------------+--------------------+--------------------+----+-----------------------+--------------------------------------+---------------------------------------+---------+---------+-----------+--------------------------------------------+--------------+-----------------+------------------------+------------------------------+------------------------------+----------+------+--------+-----------------------------+\n",
      "|Institution|Course Number|Launch Date|        Course Title|         Instructors|      Course Subject|Year|Honor Code Certificates|Participants (Course Content Accessed)|Audited (> 50% Course Content Accessed)|Certified|% Audited|% Certified|% Certified of > 50% Course Content Accessed|% Played Video|% Posted in Forum|% Grade Higher Than Zero|Total Course Hours (Thousands)|Median Hours for Certification|Median Age|% Male|% Female|% Bachelor's Degree or Higher|\n",
      "+-----------+-------------+-----------+--------------------+--------------------+--------------------+----+-----------------------+--------------------------------------+---------------------------------------+---------+---------+-----------+--------------------------------------------+--------------+-----------------+------------------------+------------------------------+------------------------------+----------+------+--------+-----------------------------+\n",
      "|       MITx|       6.002x| 09/05/2012|Circuits and Elec...|      Khurram Afridi|Science, Technolo...|   1|                      1|                                 36105|                                   5431|     3003|    15.04|       8.32|                                       54.98|          83.2|             8.17|                   28.97|                        418.94|                         64.45|        26| 88.28|   11.72|                        60.68|\n",
      "|       MITx|        6.00x| 09/26/2012|Introduction to C...|Eric Grimson, Joh...|    Computer Science|   1|                      1|                                 62709|                                   8949|     5783|    14.27|       9.22|                                       64.05|         89.14|            14.38|                    39.5|                        884.04|                         78.53|        28|  83.5|    16.5|                        63.04|\n",
      "|       MITx|       3.091x| 10/09/2012|Introduction to S...|        Michael Cima|Science, Technolo...|   1|                      1|                                 16663|                                   2855|     2082|    17.13|      12.49|                                       72.85|         87.49|            14.42|                   34.89|                        227.55|                         61.28|        27| 70.32|   29.68|                        58.76|\n",
      "|   HarvardX|        CS50x| 10/15/2012|Introduction to C...|David Malan, Nate...|    Computer Science|   1|                      1|                                129400|                                  12888|     1439|     9.96|       1.11|                                       11.11|             0|                0|                    1.11|                         220.9|                             0|        28| 80.02|   19.98|                        58.78|\n",
      "|   HarvardX|       PH207x| 10/15/2012|Health in Numbers...|Earl Francis Cook...|Government, Healt...|   1|                      1|                                 52521|                                  10729|     5058|    20.44|       9.64|                                       47.12|         77.45|            15.98|                   32.52|                        804.41|                          76.1|        32| 56.78|   43.22|                        88.33|\n",
      "|       MITx|        6.00x| 02/04/2013|Introduction to C...|       Larry Rudolph|    Computer Science|   1|                      1|                                 65380|                                   6473|     3313|      9.9|       5.07|                                       51.17|         82.43|             10.3|                    28.9|                         639.4|                         84.14|        27| 83.99|   16.01|                         60.9|\n",
      "|       MITx|       3.091x| 02/05/2013|Introduction to S...|        Michael Cima|Science, Technolo...|   1|                      1|                                  8270|                                    838|      547|    10.13|       6.61|                                       65.16|         80.25|            10.22|                   23.49|                         68.11|                         59.29|        27|  73.3|    26.7|                        58.99|\n",
      "|       MITx|       14.73x| 02/12/2013|The Challenges of...|Esther Duflo, Abh...|Government, Healt...|   1|                      1|                                 29044|                                   6510|     4607|    22.41|      15.86|                                        70.6|         83.24|            13.89|                   39.38|                        279.22|                          40.3|        30| 53.76|   46.24|                        81.94|\n",
      "|       MITx|        8.02x| 02/18/2013|Electricity and M...|Walter Lewin, Joh...|Science, Technolo...|   1|                      1|                                 39178|                                   3543|     1722|     9.04|        4.4|                                       48.49|          85.3|             5.86|                   16.04|                        380.35|                        107.88|        26| 85.42|   14.58|                        56.97|\n",
      "|   HarvardX|        ER22x| 03/02/2013|             Justice|      Michael Sandel|Humanities, Histo...|   1|                      1|                                 58779|                                   9425|     5438|    16.05|       9.26|                                       51.07|           ---|            21.86|                   20.98|                        186.61|                         13.67|        30| 60.42|   39.58|                        69.78|\n",
      "|       MITx|       6.002x| 03/03/2013|Circuits and Elec...|        Tania Khanna|Science, Technolo...|   1|                      1|                                 16752|                                   1769|     1103|    10.56|       6.58|                                       61.16|         83.55|             5.68|                   22.47|                        148.54|                         59.39|        25| 88.88|   11.12|                        59.51|\n",
      "|       MITx|        7.00x| 03/05/2013|Introduction to B...|Eric Lander, Grah...|Science, Technolo...|   1|                      1|                                 28535|                                   6109|     3242|    21.41|      11.36|                                       52.92|         84.62|            33.14|                   38.85|                        476.84|                          72.8|        30| 57.79|   42.21|                        68.15|\n",
      "|   HarvardX|        CB22x| 03/13/2013|The Ancient Greek...|Greg Nagy, L.Muel...|Humanities, Histo...|   1|                      1|                                 25873|                                   1803|     1395|     6.99|       5.41|                                       77.09|         77.05|            13.76|                   18.05|                        140.72|                         46.26|        32| 53.31|   46.69|                        71.95|\n",
      "|       MITx|        2.01x| 04/15/2013|Elements of Struc...|Simona Socrate, A...|Science, Technolo...|   1|                      1|                                  8736|                                   1705|      817|    19.52|       9.35|                                       47.86|         81.82|            11.42|                   29.98|                         84.75|                         52.13|        27| 86.22|   13.78|                        64.45|\n",
      "|   HarvardX|       PH278x| 05/15/2013|Human Health and ...|Aaron Bernstein, ...|Government, Healt...|   1|                      1|                                 23179|                                   3727|     2743|     16.1|      11.85|                                       70.83|         85.35|            14.48|                   29.01|                        110.67|                         21.69|        30| 51.15|   48.85|                        75.19|\n",
      "|       MITx|       8.MREV| 06/01/2013|    Mechanics ReView|David Pritchard, ...|Science, Technolo...|   1|                      1|                                 15350|                                   1388|     1033|     9.04|       6.73|                                        71.9|         10.96|             8.48|                   24.07|                        145.95|                         68.48|        26| 84.53|   15.47|                        54.43|\n",
      "|       MITx|       3.091x| 09/01/2013|Introduction to S...|        Michael Cima|Science, Technolo...|   2|                      1|                                 11961|                                    869|      382|     7.27|       3.19|                                       43.96|         79.57|             6.92|                   23.84|                         95.14|                         77.45|        26| 73.59|   26.41|                        54.64|\n",
      "|   HarvardX|      CB22.1x| 09/03/2013|The Ancient Greek...|           Greg Nagy|Humanities, Histo...|   2|                      1|                                 17604|                                   1260|      728|     7.18|       4.15|                                       57.14|         68.77|             6.59|                   14.96|                         65.56|                          22.1|        31| 52.11|   47.89|                        68.75|\n",
      "|       MITx|        8.01x| 09/09/2013| Classical Mechanics|        Walter Lewin|Science, Technolo...|   2|                      1|                                 35903|                                   4051|     1822|    11.28|       5.07|                                       44.98|         78.02|            10.27|                   25.93|                        452.55|                        111.34|        25| 83.26|   16.74|                        51.75|\n",
      "|       MITx|        7.00x| 09/10/2013|Introduction to B...|         Eric Lander|Science, Technolo...|   2|                      1|                                 24707|                                   4104|     2086|    16.61|       8.44|                                       50.78|         80.54|            16.88|                   31.57|                           331|                         69.36|        28| 56.69|   43.31|                        62.45|\n",
      "+-----------+-------------+-----------+--------------------+--------------------+--------------------+----+-----------------------+--------------------------------------+---------------------------------------+---------+---------+-----------+--------------------------------------------+--------------+-----------------+------------------------+------------------------------+------------------------------+----------+------+--------+-----------------------------+\n",
      "only showing top 20 rows\n",
      "\n"
     ]
    }
   ],
   "source": [
    "df.show()"
   ]
  },
  {
   "cell_type": "code",
   "execution_count": 9,
   "metadata": {},
   "outputs": [
    {
     "name": "stdout",
     "output_type": "stream",
     "text": [
      "root\n",
      " |-- Institution: string (nullable = true)\n",
      " |-- Course Number: string (nullable = true)\n",
      " |-- Launch Date: string (nullable = true)\n",
      " |-- Course Title: string (nullable = true)\n",
      " |-- Instructors: string (nullable = true)\n",
      " |-- Course Subject: string (nullable = true)\n",
      " |-- Year: string (nullable = true)\n",
      " |-- Honor Code Certificates: string (nullable = true)\n",
      " |-- Participants (Course Content Accessed): string (nullable = true)\n",
      " |-- Audited (> 50% Course Content Accessed): string (nullable = true)\n",
      " |-- Certified: string (nullable = true)\n",
      " |-- % Audited: string (nullable = true)\n",
      " |-- % Certified: string (nullable = true)\n",
      " |-- % Certified of > 50% Course Content Accessed: string (nullable = true)\n",
      " |-- % Played Video: string (nullable = true)\n",
      " |-- % Posted in Forum: string (nullable = true)\n",
      " |-- % Grade Higher Than Zero: string (nullable = true)\n",
      " |-- Total Course Hours (Thousands): string (nullable = true)\n",
      " |-- Median Hours for Certification: string (nullable = true)\n",
      " |-- Median Age: string (nullable = true)\n",
      " |-- % Male: string (nullable = true)\n",
      " |-- % Female: string (nullable = true)\n",
      " |-- % Bachelor's Degree or Higher: string (nullable = true)\n",
      "\n"
     ]
    }
   ],
   "source": [
    "df.printSchema()"
   ]
  },
  {
   "cell_type": "code",
   "execution_count": 7,
   "metadata": {},
   "outputs": [
    {
     "name": "stdout",
     "output_type": "stream",
     "text": [
      "+-----------+-------------+-----------+--------------------+--------------------+--------------------+----+-----------------------+--------------------------------------+---------------------------------------+---------+---------+-----------+--------------------------------------------+--------------+-----------------+------------------------+------------------------------+------------------------------+----------+------+--------+-----------------------------+\n",
      "|Institution|Course Number|Launch Date|        Course Title|         Instructors|      Course Subject|Year|Honor Code Certificates|Participants (Course Content Accessed)|Audited (> 50% Course Content Accessed)|Certified|% Audited|% Certified|% Certified of > 50% Course Content Accessed|% Played Video|% Posted in Forum|% Grade Higher Than Zero|Total Course Hours (Thousands)|Median Hours for Certification|Median Age|% Male|% Female|% Bachelor's Degree or Higher|\n",
      "+-----------+-------------+-----------+--------------------+--------------------+--------------------+----+-----------------------+--------------------------------------+---------------------------------------+---------+---------+-----------+--------------------------------------------+--------------+-----------------+------------------------+------------------------------+------------------------------+----------+------+--------+-----------------------------+\n",
      "|       MITx|       6.002x| 09/05/2012|Circuits and Elec...|      Khurram Afridi|Science, Technolo...|   1|                      1|                                 36105|                                   5431|     3003|    15.04|       8.32|                                       54.98|          83.2|             8.17|                   28.97|                        418.94|                         64.45|        26| 88.28|   11.72|                        60.68|\n",
      "|       MITx|        6.00x| 09/26/2012|Introduction to C...|Eric Grimson, Joh...|    Computer Science|   1|                      1|                                 62709|                                   8949|     5783|    14.27|       9.22|                                       64.05|         89.14|            14.38|                    39.5|                        884.04|                         78.53|        28|  83.5|    16.5|                        63.04|\n",
      "|       MITx|       3.091x| 10/09/2012|Introduction to S...|        Michael Cima|Science, Technolo...|   1|                      1|                                 16663|                                   2855|     2082|    17.13|      12.49|                                       72.85|         87.49|            14.42|                   34.89|                        227.55|                         61.28|        27| 70.32|   29.68|                        58.76|\n",
      "|   HarvardX|        CS50x| 10/15/2012|Introduction to C...|David Malan, Nate...|    Computer Science|   1|                      1|                                129400|                                  12888|     1439|     9.96|       1.11|                                       11.11|             0|                0|                    1.11|                         220.9|                             0|        28| 80.02|   19.98|                        58.78|\n",
      "|   HarvardX|       PH207x| 10/15/2012|Health in Numbers...|Earl Francis Cook...|Government, Healt...|   1|                      1|                                 52521|                                  10729|     5058|    20.44|       9.64|                                       47.12|         77.45|            15.98|                   32.52|                        804.41|                          76.1|        32| 56.78|   43.22|                        88.33|\n",
      "+-----------+-------------+-----------+--------------------+--------------------+--------------------+----+-----------------------+--------------------------------------+---------------------------------------+---------+---------+-----------+--------------------------------------------+--------------+-----------------+------------------------+------------------------------+------------------------------+----------+------+--------+-----------------------------+\n",
      "\n"
     ]
    }
   ],
   "source": [
    "df.createOrReplaceTempView('tableA')\n",
    "spark.sql('Select * from tableA limit 5').show()"
   ]
  },
  {
   "cell_type": "code",
   "execution_count": 12,
   "metadata": {},
   "outputs": [
    {
     "name": "stdout",
     "output_type": "stream",
     "text": [
      "+-----------+-------------+-----------+--------------------+--------------------+--------------------+----+-----------------------+--------------------------------------+---------------------------------------+---------+---------+-----------+--------------------------------------------+--------------+-----------------+------------------------+------------------------------+------------------------------+----------+------+--------+-----------------------------+\n",
      "|Institution|Course Number|Launch Date|        Course Title|         Instructors|      Course Subject|Year|Honor Code Certificates|Participants (Course Content Accessed)|Audited (> 50% Course Content Accessed)|Certified|% Audited|% Certified|% Certified of > 50% Course Content Accessed|% Played Video|% Posted in Forum|% Grade Higher Than Zero|Total Course Hours (Thousands)|Median Hours for Certification|Median Age|% Male|% Female|% Bachelor's Degree or Higher|\n",
      "+-----------+-------------+-----------+--------------------+--------------------+--------------------+----+-----------------------+--------------------------------------+---------------------------------------+---------+---------+-----------+--------------------------------------------+--------------+-----------------+------------------------+------------------------------+------------------------------+----------+------+--------+-----------------------------+\n",
      "|       MITx|       6.002x| 09/05/2012|Circuits and Elec...|      Khurram Afridi|Science, Technolo...|   1|                      1|                                 36105|                                   5431|     3003|    15.04|       8.32|                                       54.98|          83.2|             8.17|                   28.97|                        418.94|                         64.45|        26| 88.28|   11.72|                        60.68|\n",
      "|       MITx|        6.00x| 09/26/2012|Introduction to C...|Eric Grimson, Joh...|    Computer Science|   1|                      1|                                 62709|                                   8949|     5783|    14.27|       9.22|                                       64.05|         89.14|            14.38|                    39.5|                        884.04|                         78.53|        28|  83.5|    16.5|                        63.04|\n",
      "|       MITx|       3.091x| 10/09/2012|Introduction to S...|        Michael Cima|Science, Technolo...|   1|                      1|                                 16663|                                   2855|     2082|    17.13|      12.49|                                       72.85|         87.49|            14.42|                   34.89|                        227.55|                         61.28|        27| 70.32|   29.68|                        58.76|\n",
      "|   HarvardX|        CS50x| 10/15/2012|Introduction to C...|David Malan, Nate...|    Computer Science|   1|                      1|                                129400|                                  12888|     1439|     9.96|       1.11|                                       11.11|             0|                0|                    1.11|                         220.9|                             0|        28| 80.02|   19.98|                        58.78|\n",
      "|   HarvardX|       PH207x| 10/15/2012|Health in Numbers...|Earl Francis Cook...|Government, Healt...|   1|                      1|                                 52521|                                  10729|     5058|    20.44|       9.64|                                       47.12|         77.45|            15.98|                   32.52|                        804.41|                          76.1|        32| 56.78|   43.22|                        88.33|\n",
      "|       MITx|        6.00x| 02/04/2013|Introduction to C...|       Larry Rudolph|    Computer Science|   1|                      1|                                 65380|                                   6473|     3313|      9.9|       5.07|                                       51.17|         82.43|             10.3|                    28.9|                         639.4|                         84.14|        27| 83.99|   16.01|                         60.9|\n",
      "|       MITx|       3.091x| 02/05/2013|Introduction to S...|        Michael Cima|Science, Technolo...|   1|                      1|                                  8270|                                    838|      547|    10.13|       6.61|                                       65.16|         80.25|            10.22|                   23.49|                         68.11|                         59.29|        27|  73.3|    26.7|                        58.99|\n",
      "|       MITx|       14.73x| 02/12/2013|The Challenges of...|Esther Duflo, Abh...|Government, Healt...|   1|                      1|                                 29044|                                   6510|     4607|    22.41|      15.86|                                        70.6|         83.24|            13.89|                   39.38|                        279.22|                          40.3|        30| 53.76|   46.24|                        81.94|\n",
      "|       MITx|        8.02x| 02/18/2013|Electricity and M...|Walter Lewin, Joh...|Science, Technolo...|   1|                      1|                                 39178|                                   3543|     1722|     9.04|        4.4|                                       48.49|          85.3|             5.86|                   16.04|                        380.35|                        107.88|        26| 85.42|   14.58|                        56.97|\n",
      "|   HarvardX|        ER22x| 03/02/2013|             Justice|      Michael Sandel|Humanities, Histo...|   1|                      1|                                 58779|                                   9425|     5438|    16.05|       9.26|                                       51.07|           ---|            21.86|                   20.98|                        186.61|                         13.67|        30| 60.42|   39.58|                        69.78|\n",
      "|       MITx|       6.002x| 03/03/2013|Circuits and Elec...|        Tania Khanna|Science, Technolo...|   1|                      1|                                 16752|                                   1769|     1103|    10.56|       6.58|                                       61.16|         83.55|             5.68|                   22.47|                        148.54|                         59.39|        25| 88.88|   11.12|                        59.51|\n",
      "|       MITx|        7.00x| 03/05/2013|Introduction to B...|Eric Lander, Grah...|Science, Technolo...|   1|                      1|                                 28535|                                   6109|     3242|    21.41|      11.36|                                       52.92|         84.62|            33.14|                   38.85|                        476.84|                          72.8|        30| 57.79|   42.21|                        68.15|\n",
      "|   HarvardX|        CB22x| 03/13/2013|The Ancient Greek...|Greg Nagy, L.Muel...|Humanities, Histo...|   1|                      1|                                 25873|                                   1803|     1395|     6.99|       5.41|                                       77.09|         77.05|            13.76|                   18.05|                        140.72|                         46.26|        32| 53.31|   46.69|                        71.95|\n",
      "|       MITx|        2.01x| 04/15/2013|Elements of Struc...|Simona Socrate, A...|Science, Technolo...|   1|                      1|                                  8736|                                   1705|      817|    19.52|       9.35|                                       47.86|         81.82|            11.42|                   29.98|                         84.75|                         52.13|        27| 86.22|   13.78|                        64.45|\n",
      "|   HarvardX|       PH278x| 05/15/2013|Human Health and ...|Aaron Bernstein, ...|Government, Healt...|   1|                      1|                                 23179|                                   3727|     2743|     16.1|      11.85|                                       70.83|         85.35|            14.48|                   29.01|                        110.67|                         21.69|        30| 51.15|   48.85|                        75.19|\n",
      "|       MITx|       8.MREV| 06/01/2013|    Mechanics ReView|David Pritchard, ...|Science, Technolo...|   1|                      1|                                 15350|                                   1388|     1033|     9.04|       6.73|                                        71.9|         10.96|             8.48|                   24.07|                        145.95|                         68.48|        26| 84.53|   15.47|                        54.43|\n",
      "|       MITx|       3.091x| 09/01/2013|Introduction to S...|        Michael Cima|Science, Technolo...|   2|                      1|                                 11961|                                    869|      382|     7.27|       3.19|                                       43.96|         79.57|             6.92|                   23.84|                         95.14|                         77.45|        26| 73.59|   26.41|                        54.64|\n",
      "|   HarvardX|      CB22.1x| 09/03/2013|The Ancient Greek...|           Greg Nagy|Humanities, Histo...|   2|                      1|                                 17604|                                   1260|      728|     7.18|       4.15|                                       57.14|         68.77|             6.59|                   14.96|                         65.56|                          22.1|        31| 52.11|   47.89|                        68.75|\n",
      "|       MITx|        8.01x| 09/09/2013| Classical Mechanics|        Walter Lewin|Science, Technolo...|   2|                      1|                                 35903|                                   4051|     1822|    11.28|       5.07|                                       44.98|         78.02|            10.27|                   25.93|                        452.55|                        111.34|        25| 83.26|   16.74|                        51.75|\n",
      "|       MITx|        7.00x| 09/10/2013|Introduction to B...|         Eric Lander|Science, Technolo...|   2|                      1|                                 24707|                                   4104|     2086|    16.61|       8.44|                                       50.78|         80.54|            16.88|                   31.57|                           331|                         69.36|        28| 56.69|   43.31|                        62.45|\n",
      "+-----------+-------------+-----------+--------------------+--------------------+--------------------+----+-----------------------+--------------------------------------+---------------------------------------+---------+---------+-----------+--------------------------------------------+--------------+-----------------+------------------------+------------------------------+------------------------------+----------+------+--------+-----------------------------+\n",
      "only showing top 20 rows\n",
      "\n"
     ]
    }
   ],
   "source": [
    "spark.sql(\"Select * from tableA where '% Female' < '43'\").show()"
   ]
  }
 ],
 "metadata": {
  "kernelspec": {
   "display_name": "base",
   "language": "python",
   "name": "python3"
  },
  "language_info": {
   "codemirror_mode": {
    "name": "ipython",
    "version": 3
   },
   "file_extension": ".py",
   "mimetype": "text/x-python",
   "name": "python",
   "nbconvert_exporter": "python",
   "pygments_lexer": "ipython3",
   "version": "3.11.7"
  }
 },
 "nbformat": 4,
 "nbformat_minor": 2
}
