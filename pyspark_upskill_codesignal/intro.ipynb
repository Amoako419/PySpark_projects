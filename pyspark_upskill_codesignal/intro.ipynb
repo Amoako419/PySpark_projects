{
 "cells": [
  {
   "cell_type": "markdown",
   "id": "3f98f721",
   "metadata": {},
   "source": [
    "## Getting Started with PySpark and RDDs"
   ]
  },
  {
   "cell_type": "code",
   "execution_count": 1,
   "id": "d873e0bf",
   "metadata": {},
   "outputs": [],
   "source": [
    "from pyspark.sql import SparkSession"
   ]
  },
  {
   "cell_type": "code",
   "execution_count": 2,
   "metadata": {},
   "outputs": [],
   "source": [
    "spark = SparkSession.builder \\\n",
    "    .appName(\"Getting Started with PySpark\") \\\n",
    "    .master(\"local\") \\\n",
    "    .getOrCreate()"
   ]
  },
  {
   "cell_type": "code",
   "execution_count": 3,
   "metadata": {},
   "outputs": [
    {
     "data": {
      "text/html": [
       "\n",
       "            <div>\n",
       "                <p><b>SparkSession - in-memory</b></p>\n",
       "                \n",
       "        <div>\n",
       "            <p><b>SparkContext</b></p>\n",
       "\n",
       "            <p><a href=\"http://AMALITECH-PC-11075:4040\">Spark UI</a></p>\n",
       "\n",
       "            <dl>\n",
       "              <dt>Version</dt>\n",
       "                <dd><code>v3.5.3</code></dd>\n",
       "              <dt>Master</dt>\n",
       "                <dd><code>local</code></dd>\n",
       "              <dt>AppName</dt>\n",
       "                <dd><code>Getting Started with PySpark</code></dd>\n",
       "            </dl>\n",
       "        </div>\n",
       "        \n",
       "            </div>\n",
       "        "
      ],
      "text/plain": [
       "<pyspark.sql.session.SparkSession at 0x1cede889550>"
      ]
     },
     "execution_count": 3,
     "metadata": {},
     "output_type": "execute_result"
    }
   ],
   "source": [
    "spark"
   ]
  },
  {
   "cell_type": "markdown",
   "id": "074ccf7a",
   "metadata": {},
   "source": [
    "### Understanding Resilient Distributed Datasets\n"
   ]
  },
  {
   "cell_type": "code",
   "execution_count": 4,
   "metadata": {},
   "outputs": [],
   "source": [
    "nums = [1,2,3,4,5,6,7]\n",
    "num_rdd = spark.sparkContext.parallelize(nums)"
   ]
  },
  {
   "cell_type": "code",
   "execution_count": 6,
   "id": "6d5a5540",
   "metadata": {},
   "outputs": [
    {
     "data": {
      "text/plain": [
       "[1, 2, 3, 4, 5, 6, 7]"
      ]
     },
     "execution_count": 6,
     "metadata": {},
     "output_type": "execute_result"
    }
   ],
   "source": [
    "num_rdd.collect()"
   ]
  },
  {
   "cell_type": "code",
   "execution_count": 17,
   "id": "49526814",
   "metadata": {},
   "outputs": [],
   "source": [
    "minus = num_rdd.map(lambda x: x-1)"
   ]
  },
  {
   "cell_type": "code",
   "execution_count": 10,
   "metadata": {},
   "outputs": [],
   "source": [
    "csv_rdd = spark.sparkContext.textFile(\"world_happiness_data/2020.csv\")"
   ]
  },
  {
   "cell_type": "markdown",
   "id": "b63d8154",
   "metadata": {},
   "source": [
    "## Reading a csv file into a DataFrame"
   ]
  },
  {
   "cell_type": "code",
   "execution_count": 19,
   "id": "aef4f76c",
   "metadata": {},
   "outputs": [],
   "source": [
    "df = spark.read.csv('world_happiness_data/2020.csv', header=True,inferSchema=True)"
   ]
  },
  {
   "cell_type": "code",
   "execution_count": 20,
   "id": "034db92d",
   "metadata": {},
   "outputs": [
    {
     "name": "stdout",
     "output_type": "stream",
     "text": [
      "The count of the rows in the dataframe is : 153\n"
     ]
    }
   ],
   "source": [
    "print(\"The count of the rows in the dataframe is :\", df.count())"
   ]
  },
  {
   "cell_type": "code",
   "execution_count": 21,
   "id": "6592f3bd",
   "metadata": {},
   "outputs": [
    {
     "name": "stdout",
     "output_type": "stream",
     "text": [
      "The schema of the dataframe is :\n",
      "root\n",
      " |-- Country name: string (nullable = true)\n",
      " |-- Happiness Rank: integer (nullable = true)\n",
      " |-- Happiness score: double (nullable = true)\n",
      " |-- Upperwhisker: double (nullable = true)\n",
      " |-- Lowerwhisker: double (nullable = true)\n",
      " |-- Economy (GDP per Capita)\\t: double (nullable = true)\n",
      " |-- Social support: double (nullable = true)\n",
      " |-- Healthy life expectancy: double (nullable = true)\n",
      " |-- Freedom to make life choices: double (nullable = true)\n",
      " |-- Generosity: double (nullable = true)\n",
      " |-- Perceptions of corruption: double (nullable = true)\n",
      "\n"
     ]
    }
   ],
   "source": [
    "print(\"The schema of the dataframe is :\")\n",
    "df.printSchema()"
   ]
  },
  {
   "cell_type": "code",
   "execution_count": 22,
   "id": "49b6842a",
   "metadata": {},
   "outputs": [],
   "source": [
    "selected_df = df.select(\"Country name\", \"Generosity\", \"Happiness score\")"
   ]
  },
  {
   "cell_type": "code",
   "execution_count": 23,
   "id": "aa62364c",
   "metadata": {},
   "outputs": [
    {
     "name": "stdout",
     "output_type": "stream",
     "text": [
      "+------------+----------+---------------+\n",
      "|Country name|Generosity|Happiness score|\n",
      "+------------+----------+---------------+\n",
      "|     Finland|      0.16|           7.81|\n",
      "|     Denmark|      0.24|           7.65|\n",
      "| Switzerland|      0.27|           7.56|\n",
      "|     Iceland|      0.36|            7.5|\n",
      "|      Norway|      0.29|           7.49|\n",
      "+------------+----------+---------------+\n",
      "only showing top 5 rows\n",
      "\n"
     ]
    }
   ],
   "source": [
    "selected_df.show(5)"
   ]
  },
  {
   "cell_type": "code",
   "execution_count": 25,
   "id": "edaff4f0",
   "metadata": {},
   "outputs": [
    {
     "name": "stdout",
     "output_type": "stream",
     "text": [
      "+------------+----------+---------------+\n",
      "|Country name|Generosity|Happiness score|\n",
      "+------------+----------+---------------+\n",
      "|     Finland|      0.16|           7.81|\n",
      "|     Denmark|      0.24|           7.65|\n",
      "| Switzerland|      0.27|           7.56|\n",
      "+------------+----------+---------------+\n",
      "\n"
     ]
    }
   ],
   "source": [
    "filtered_df = selected_df.filter(selected_df[\"Happiness score\"] > 7.5)\n",
    "filtered_df.show(5)"
   ]
  },
  {
   "cell_type": "code",
   "execution_count": 32,
   "id": "36d2e84e",
   "metadata": {},
   "outputs": [],
   "source": [
    "max_df = df.groupBy(\"Country name\").max(\"Happiness score\")"
   ]
  },
  {
   "cell_type": "code",
   "execution_count": null,
   "id": "caa0161c",
   "metadata": {},
   "outputs": [
    {
     "data": {
      "text/plain": [
       "0.07176263525033995"
      ]
     },
     "execution_count": 35,
     "metadata": {},
     "output_type": "execute_result"
    }
   ],
   "source": [
    "# The correlation between \"Happiness score\" and \"Generosity\"\n",
    "df.corr(\"Happiness score\", \"Generosity\")"
   ]
  },
  {
   "cell_type": "code",
   "execution_count": 36,
   "id": "70023690",
   "metadata": {},
   "outputs": [],
   "source": [
    "df.createOrReplaceTempView(\"table1\")"
   ]
  },
  {
   "cell_type": "code",
   "execution_count": 37,
   "id": "3e20a297",
   "metadata": {},
   "outputs": [
    {
     "name": "stdout",
     "output_type": "stream",
     "text": [
      "+------------+--------------+---------------+------------+------------+--------------------------+--------------+-----------------------+----------------------------+----------+-------------------------+\n",
      "|Country name|Happiness Rank|Happiness score|Upperwhisker|Lowerwhisker|Economy (GDP per Capita)\\t|Social support|Healthy life expectancy|Freedom to make life choices|Generosity|Perceptions of corruption|\n",
      "+------------+--------------+---------------+------------+------------+--------------------------+--------------+-----------------------+----------------------------+----------+-------------------------+\n",
      "|     Finland|             1|           7.81|        7.87|        7.75|                      1.29|           1.5|                   0.96|                        0.66|      0.16|                     0.48|\n",
      "|     Denmark|             2|           7.65|        7.71|        7.58|                      1.33|           1.5|                   0.98|                        0.67|      0.24|                      0.5|\n",
      "| Switzerland|             3|           7.56|        7.63|        7.49|                      1.39|          1.47|                   1.04|                        0.63|      0.27|                     0.41|\n",
      "|     Iceland|             4|            7.5|        7.62|        7.39|                      1.33|          1.55|                    1.0|                        0.66|      0.36|                     0.14|\n",
      "|      Norway|             5|           7.49|        7.56|        7.42|                      1.42|           1.5|                   1.01|                        0.67|      0.29|                     0.43|\n",
      "+------------+--------------+---------------+------------+------------+--------------------------+--------------+-----------------------+----------------------------+----------+-------------------------+\n",
      "only showing top 5 rows\n",
      "\n"
     ]
    }
   ],
   "source": [
    "spark.sql(\"SELECT * FROM table1\").show(5)"
   ]
  },
  {
   "cell_type": "code",
   "execution_count": 42,
   "id": "83eaf85d",
   "metadata": {},
   "outputs": [
    {
     "name": "stdout",
     "output_type": "stream",
     "text": [
      "+--------------+-------------------+\n",
      "|  Country name|max_happiness_score|\n",
      "+--------------+-------------------+\n",
      "|       Finland|               7.81|\n",
      "|       Denmark|               7.65|\n",
      "|   Switzerland|               7.56|\n",
      "|       Iceland|                7.5|\n",
      "|        Norway|               7.49|\n",
      "|   Netherlands|               7.45|\n",
      "|        Sweden|               7.35|\n",
      "|   New Zealand|                7.3|\n",
      "|       Austria|               7.29|\n",
      "|    Luxembourg|               7.24|\n",
      "|        Canada|               7.23|\n",
      "|     Australia|               7.22|\n",
      "|United Kingdom|               7.16|\n",
      "|        Israel|               7.13|\n",
      "|    Costa Rica|               7.12|\n",
      "|       Ireland|               7.09|\n",
      "|       Germany|               7.08|\n",
      "| United States|               6.94|\n",
      "|Czech Republic|               6.91|\n",
      "|       Belgium|               6.86|\n",
      "+--------------+-------------------+\n",
      "only showing top 20 rows\n",
      "\n"
     ]
    }
   ],
   "source": [
    "spark.sql(\"SELECT `Country name`, MAX(`Happiness score`) as max_happiness_score FROM table1 GROUP BY `Country name` order by max_happiness_score desc\").show()"
   ]
  },
  {
   "cell_type": "code",
   "execution_count": 59,
   "id": "0650a9a1",
   "metadata": {},
   "outputs": [],
   "source": [
    "query = \"\"\"\n",
    "SELECT `Country name`, MIN(`Happiness score`) as max_happiness_score\n",
    " FROM table1 \n",
    " GROUP BY `Country name` \n",
    " order by max_happiness_score asc\n",
    "\"\"\""
   ]
  },
  {
   "cell_type": "code",
   "execution_count": 60,
   "id": "436cf667",
   "metadata": {},
   "outputs": [],
   "source": [
    "results_df = spark.sql(query)"
   ]
  },
  {
   "cell_type": "code",
   "execution_count": 61,
   "id": "628d7a34",
   "metadata": {},
   "outputs": [
    {
     "name": "stdout",
     "output_type": "stream",
     "text": [
      "+--------------------+-------------------+\n",
      "|        Country name|max_happiness_score|\n",
      "+--------------------+-------------------+\n",
      "|         Afghanistan|               2.57|\n",
      "|         South Sudan|               2.82|\n",
      "|            Zimbabwe|                3.3|\n",
      "|              Rwanda|               3.31|\n",
      "|Central African R...|               3.48|\n",
      "+--------------------+-------------------+\n",
      "only showing top 5 rows\n",
      "\n"
     ]
    }
   ],
   "source": [
    "results_df.show(5)"
   ]
  },
  {
   "cell_type": "code",
   "execution_count": 64,
   "id": "13224b29",
   "metadata": {},
   "outputs": [
    {
     "name": "stdout",
     "output_type": "stream",
     "text": [
      "== Physical Plan ==\n",
      "AdaptiveSparkPlan isFinalPlan=false\n",
      "+- Sort [max_happiness_score#589 ASC NULLS FIRST], true, 0\n",
      "   +- Exchange rangepartitioning(max_happiness_score#589 ASC NULLS FIRST, 200), ENSURE_REQUIREMENTS, [plan_id=613]\n",
      "      +- HashAggregate(keys=[Country name#17], functions=[min(Happiness score#19)])\n",
      "         +- Exchange hashpartitioning(Country name#17, 200), ENSURE_REQUIREMENTS, [plan_id=610]\n",
      "            +- HashAggregate(keys=[Country name#17], functions=[partial_min(Happiness score#19)])\n",
      "               +- FileScan csv [Country name#17,Happiness score#19] Batched: false, DataFilters: [], Format: CSV, Location: InMemoryFileIndex(1 paths)[file:/c:/Users/HeskeyAmoakoFordjour/OneDrive - AmaliTech gGmbH/DE-labs..., PartitionFilters: [], PushedFilters: [], ReadSchema: struct<Country name:string,Happiness score:double>\n",
      "\n",
      "\n"
     ]
    }
   ],
   "source": [
    "results_df.explain(mode=\"simple\")"
   ]
  }
 ],
 "metadata": {
  "kernelspec": {
   "display_name": "pyspark",
   "language": "python",
   "name": "python3"
  },
  "language_info": {
   "codemirror_mode": {
    "name": "ipython",
    "version": 3
   },
   "file_extension": ".py",
   "mimetype": "text/x-python",
   "name": "python",
   "nbconvert_exporter": "python",
   "pygments_lexer": "ipython3",
   "version": "3.13.0"
  }
 },
 "nbformat": 4,
 "nbformat_minor": 5
}
