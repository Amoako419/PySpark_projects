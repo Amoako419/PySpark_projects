{
 "cells": [
  {
   "cell_type": "markdown",
   "id": "af40117a",
   "metadata": {},
   "source": [
    "# Introduction to PySpark\n",
    "\n",
    "PySpark is the Python API for Apache Spark, a powerful distributed computing system designed for big data processing and analytics. This tutorial will guide you through the fundamentals of PySpark, from basic concepts to practical applications.\n",
    "\n",
    "## What You'll Learn\n",
    "1. Setting up PySpark\n",
    "2. Creating and Working with SparkSession\n",
    "3. Basic DataFrame Operations\n",
    "4. Data Transformations and Actions\n",
    "5. SQL Operations in PySpark\n",
    "6. Data Cleaning and Preprocessing\n",
    "7. Advanced Operations and Best Practices"
   ]
  },
  {
   "cell_type": "markdown",
   "id": "926481b7",
   "metadata": {},
   "source": [
    "## 1. Setting Up PySpark\n",
    "\n",
    "First, we'll import the necessary libraries and create our SparkSession, which is the entry point for PySpark functionality."
   ]
  },
  {
   "cell_type": "code",
   "execution_count": 1,
   "id": "6b03ba64",
   "metadata": {},
   "outputs": [
    {
     "name": "stdout",
     "output_type": "stream",
     "text": [
      "SparkSession created successfully!\n"
     ]
    }
   ],
   "source": [
    "from pyspark.sql import SparkSession\n",
    "from pyspark.sql.functions import *\n",
    "\n",
    "# Create a SparkSession\n",
    "spark = SparkSession.builder \\\n",
    "    .appName('PySpark Tutorial') \\\n",
    "    .getOrCreate()\n",
    "\n",
    "print('SparkSession created successfully!')"
   ]
  },
  {
   "cell_type": "markdown",
   "id": "d117f9e5",
   "metadata": {},
   "source": [
    "## 2. Creating Your First DataFrame\n",
    "\n",
    "Let's start by creating a simple DataFrame and exploring basic operations."
   ]
  },
  {
   "cell_type": "code",
   "execution_count": 2,
   "id": "363026ab",
   "metadata": {},
   "outputs": [
    {
     "name": "stdout",
     "output_type": "stream",
     "text": [
      "DataFrame Schema:\n",
      "root\n",
      " |-- id: long (nullable = true)\n",
      " |-- name: string (nullable = true)\n",
      " |-- age: long (nullable = true)\n",
      "\n"
     ]
    }
   ],
   "source": [
    "# Create a simple DataFrame\n",
    "data = [\n",
    "    (1, \"John\", 25),\n",
    "    (2, \"Alice\", 30),\n",
    "    (3, \"Bob\", 35)\n",
    "]\n",
    "\n",
    "columns = [\"id\", \"name\", \"age\"]\n",
    "df = spark.createDataFrame(data, columns)\n",
    "\n",
    "# Display the DataFrame\n",
    "print(\"DataFrame Schema:\")\n",
    "df.printSchema()\n",
    "\n"
   ]
  },
  {
   "cell_type": "markdown",
   "id": "aaf842eb",
   "metadata": {},
   "source": [
    "## 3. Basic DataFrame Operations\n",
    "\n",
    "Let's explore some common DataFrame operations that you'll use frequently."
   ]
  },
  {
   "cell_type": "code",
   "execution_count": null,
   "id": "4ef04fae",
   "metadata": {},
   "outputs": [],
   "source": [
    "# Select specific columns\n",
    "df.select(\"name\", \"age\").show()\n",
    "\n",
    "# Filter data\n",
    "df.filter(df.age > 28).show()\n",
    "\n",
    "# Add a new column\n",
    "df_with_category = df.withColumn(\n",
    "    \"age_category\",\n",
    "    when(df.age < 30, \"Young\")\n",
    "    .when(df.age < 40, \"Middle\")\n",
    "    .otherwise(\"Senior\")\n",
    ")\n",
    "\n",
    "df_with_category.show()"
   ]
  },
  {
   "cell_type": "markdown",
   "id": "85592e24",
   "metadata": {},
   "source": [
    "## 4. Working with Real Data\n",
    "\n",
    "Let's load and analyze some real-world data using the World Happiness dataset."
   ]
  },
  {
   "cell_type": "code",
   "execution_count": 4,
   "id": "4e8c7f67",
   "metadata": {},
   "outputs": [
    {
     "name": "stdout",
     "output_type": "stream",
     "text": [
      "Dataset Schema:\n",
      "root\n",
      " |-- Country name: string (nullable = true)\n",
      " |-- Happiness Rank: integer (nullable = true)\n",
      " |-- Happiness score: double (nullable = true)\n",
      " |-- Upperwhisker: double (nullable = true)\n",
      " |-- Lowerwhisker: double (nullable = true)\n",
      " |-- Economy (GDP per Capita)\\t: double (nullable = true)\n",
      " |-- Social support: double (nullable = true)\n",
      " |-- Healthy life expectancy: double (nullable = true)\n",
      " |-- Freedom to make life choices: double (nullable = true)\n",
      " |-- Generosity: double (nullable = true)\n",
      " |-- Perceptions of corruption: double (nullable = true)\n",
      "\n",
      "\n",
      "First few rows:\n",
      "+------------+--------------+---------------+------------+------------+--------------------------+--------------+-----------------------+----------------------------+----------+-------------------------+\n",
      "|Country name|Happiness Rank|Happiness score|Upperwhisker|Lowerwhisker|Economy (GDP per Capita)\\t|Social support|Healthy life expectancy|Freedom to make life choices|Generosity|Perceptions of corruption|\n",
      "+------------+--------------+---------------+------------+------------+--------------------------+--------------+-----------------------+----------------------------+----------+-------------------------+\n",
      "|     Finland|             1|          7.804|       7.875|       7.733|                     1.888|         1.585|                  0.535|                       0.772|     0.126|                    0.535|\n",
      "|     Denmark|             2|          7.586|       7.667|       7.506|                     1.949|         1.548|                  0.537|                       0.734|     0.208|                    0.525|\n",
      "|     Iceland|             3|           7.53|       7.625|       7.434|                     1.926|          1.62|                  0.559|                       0.738|      0.25|                    0.187|\n",
      "|      Israel|             4|          7.473|       7.535|       7.411|                     1.833|         1.521|                  0.577|                       0.569|     0.124|                    0.158|\n",
      "| Netherlands|             5|          7.403|        7.46|       7.346|                     1.942|         1.488|                  0.545|                       0.672|     0.251|                    0.394|\n",
      "+------------+--------------+---------------+------------+------------+--------------------------+--------------+-----------------------+----------------------------+----------+-------------------------+\n",
      "only showing top 5 rows\n",
      "\n",
      "+------------+--------------+---------------+------------+------------+--------------------------+--------------+-----------------------+----------------------------+----------+-------------------------+\n",
      "|Country name|Happiness Rank|Happiness score|Upperwhisker|Lowerwhisker|Economy (GDP per Capita)\\t|Social support|Healthy life expectancy|Freedom to make life choices|Generosity|Perceptions of corruption|\n",
      "+------------+--------------+---------------+------------+------------+--------------------------+--------------+-----------------------+----------------------------+----------+-------------------------+\n",
      "|     Finland|             1|          7.804|       7.875|       7.733|                     1.888|         1.585|                  0.535|                       0.772|     0.126|                    0.535|\n",
      "|     Denmark|             2|          7.586|       7.667|       7.506|                     1.949|         1.548|                  0.537|                       0.734|     0.208|                    0.525|\n",
      "|     Iceland|             3|           7.53|       7.625|       7.434|                     1.926|          1.62|                  0.559|                       0.738|      0.25|                    0.187|\n",
      "|      Israel|             4|          7.473|       7.535|       7.411|                     1.833|         1.521|                  0.577|                       0.569|     0.124|                    0.158|\n",
      "| Netherlands|             5|          7.403|        7.46|       7.346|                     1.942|         1.488|                  0.545|                       0.672|     0.251|                    0.394|\n",
      "+------------+--------------+---------------+------------+------------+--------------------------+--------------+-----------------------+----------------------------+----------+-------------------------+\n",
      "only showing top 5 rows\n",
      "\n"
     ]
    }
   ],
   "source": [
    "# Read CSV file\n",
    "happiness_df = spark.read.csv('world_happiness_data/2023.csv', header=True, inferSchema=True)\n",
    "\n",
    "# Display basic information about the dataset\n",
    "print(\"Dataset Schema:\")\n",
    "happiness_df.printSchema()\n",
    "\n",
    "print(\"\\nFirst few rows:\")\n",
    "happiness_df.show(5)"
   ]
  },
  {
   "cell_type": "markdown",
   "id": "99dca5a3",
   "metadata": {},
   "source": [
    "## 5. Data Analysis and Aggregations\n",
    "\n",
    "Let's perform some common data analysis operations."
   ]
  },
  {
   "cell_type": "code",
   "execution_count": 6,
   "id": "fb25e6c4",
   "metadata": {},
   "outputs": [
    {
     "name": "stdout",
     "output_type": "stream",
     "text": [
      "+-------+------------+-----------------+------------------+------------------+------------------+--------------------------+------------------+-----------------------+----------------------------+-------------------+-------------------------+\n",
      "|summary|Country name|   Happiness Rank|   Happiness score|      Upperwhisker|      Lowerwhisker|Economy (GDP per Capita)\\t|    Social support|Healthy life expectancy|Freedom to make life choices|         Generosity|Perceptions of corruption|\n",
      "+-------+------------+-----------------+------------------+------------------+------------------+--------------------------+------------------+-----------------------+----------------------------+-------------------+-------------------------+\n",
      "|  count|         137|              137|               137|               137|               137|                       137|               137|                    136|                         137|                137|                      137|\n",
      "|   mean|        NULL|             69.0| 5.539795620437957| 5.666525547445259| 5.412970802919709|        1.4069854014598542|1.1562116788321168|     0.3661764705882354|          0.5399999999999998|0.14847445255474462|      0.14589781021897807|\n",
      "| stddev|        NULL|39.69256857397868|1.1399287460877296|1.1174207899305433|1.1637240863457552|        0.4329626730515041|0.3263224999601605|    0.15669110364275404|          0.1495013279500337|0.07605349126572332|      0.12672296582979353|\n",
      "|    min| Afghanistan|                1|             1.859|             1.923|             1.795|                       0.0|               0.0|                    0.0|                         0.0|                0.0|                      0.0|\n",
      "|    max|    Zimbabwe|              137|             7.804|             7.875|             7.733|                       2.2|              1.62|                  0.702|                       0.772|              0.422|                    0.561|\n",
      "+-------+------------+-----------------+------------------+------------------+------------------+--------------------------+------------------+-----------------------+----------------------------+-------------------+-------------------------+\n",
      "\n",
      "+--------------+-------------+-----+\n",
      "|  Country name|avg_happiness|count|\n",
      "+--------------+-------------+-----+\n",
      "|       Finland|        7.804|    1|\n",
      "|       Denmark|        7.586|    1|\n",
      "|       Iceland|         7.53|    1|\n",
      "|        Israel|        7.473|    1|\n",
      "|   Netherlands|        7.403|    1|\n",
      "|        Sweden|        7.395|    1|\n",
      "|        Norway|        7.315|    1|\n",
      "|   Switzerland|         7.24|    1|\n",
      "|    Luxembourg|        7.228|    1|\n",
      "|   New Zealand|        7.123|    1|\n",
      "|       Austria|        7.097|    1|\n",
      "|     Australia|        7.095|    1|\n",
      "|        Canada|        6.961|    1|\n",
      "|       Ireland|        6.911|    1|\n",
      "| United States|        6.894|    1|\n",
      "|       Germany|        6.892|    1|\n",
      "|       Belgium|        6.859|    1|\n",
      "|       Czechia|        6.845|    1|\n",
      "|United Kingdom|        6.796|    1|\n",
      "|     Lithuania|        6.763|    1|\n",
      "+--------------+-------------+-----+\n",
      "only showing top 20 rows\n",
      "\n",
      "+--------------+-------------+-----+\n",
      "|  Country name|avg_happiness|count|\n",
      "+--------------+-------------+-----+\n",
      "|       Finland|        7.804|    1|\n",
      "|       Denmark|        7.586|    1|\n",
      "|       Iceland|         7.53|    1|\n",
      "|        Israel|        7.473|    1|\n",
      "|   Netherlands|        7.403|    1|\n",
      "|        Sweden|        7.395|    1|\n",
      "|        Norway|        7.315|    1|\n",
      "|   Switzerland|         7.24|    1|\n",
      "|    Luxembourg|        7.228|    1|\n",
      "|   New Zealand|        7.123|    1|\n",
      "|       Austria|        7.097|    1|\n",
      "|     Australia|        7.095|    1|\n",
      "|        Canada|        6.961|    1|\n",
      "|       Ireland|        6.911|    1|\n",
      "| United States|        6.894|    1|\n",
      "|       Germany|        6.892|    1|\n",
      "|       Belgium|        6.859|    1|\n",
      "|       Czechia|        6.845|    1|\n",
      "|United Kingdom|        6.796|    1|\n",
      "|     Lithuania|        6.763|    1|\n",
      "+--------------+-------------+-----+\n",
      "only showing top 20 rows\n",
      "\n"
     ]
    }
   ],
   "source": [
    "# Basic statistics\n",
    "happiness_df.describe().show()\n",
    "\n",
    "# Group by operations\n",
    "happiness_df.groupBy(\"Country name\") \\\n",
    "    .agg(\n",
    "        avg(\"Happiness Score\").alias(\"avg_happiness\"),\n",
    "        count(\"*\").alias(\"count\")\n",
    "    ) \\\n",
    "    .orderBy(\"avg_happiness\", ascending=False) \\\n",
    "    .show()"
   ]
  },
  {
   "cell_type": "markdown",
   "id": "a2b41d03",
   "metadata": {},
   "source": [
    "## 6. Using SQL with PySpark\n",
    "\n",
    "PySpark also allows you to use SQL queries on DataFrames."
   ]
  },
  {
   "cell_type": "code",
   "execution_count": 11,
   "id": "51dab392",
   "metadata": {},
   "outputs": [
    {
     "name": "stdout",
     "output_type": "stream",
     "text": [
      "+------------+-----------------+-------------+\n",
      "|Country name|    avg_happiness|country_count|\n",
      "+------------+-----------------+-------------+\n",
      "|Country name|5.539795620437957|          137|\n",
      "+------------+-----------------+-------------+\n",
      "\n"
     ]
    }
   ],
   "source": [
    "# Create a temporary view\n",
    "happiness_df.createOrReplaceTempView(\"happiness\")\n",
    "\n",
    "# Run SQL query\n",
    "spark.sql(\"\"\"\n",
    "    SELECT \n",
    "        \"Country name\",\n",
    "        AVG(`Happiness Score`) as avg_happiness,\n",
    "        COUNT(*) as country_count\n",
    "    FROM happiness\n",
    "    GROUP BY \"Country name\"\n",
    "    ORDER BY avg_happiness DESC\n",
    "\"\"\").show()"
   ]
  },
  {
   "cell_type": "markdown",
   "id": "4d20937c",
   "metadata": {},
   "source": [
    "## 7. Data Cleaning and Preprocessing\n",
    "\n",
    "Let's learn some common data cleaning operations."
   ]
  },
  {
   "cell_type": "code",
   "execution_count": 12,
   "id": "9b661397",
   "metadata": {},
   "outputs": [
    {
     "name": "stdout",
     "output_type": "stream",
     "text": [
      "Original count: 137\n",
      "After removing nulls: 136\n",
      "After removing duplicates: 137\n",
      "After removing duplicates: 137\n"
     ]
    }
   ],
   "source": [
    "# Handle missing values\n",
    "cleaned_df = happiness_df.dropna()\n",
    "\n",
    "# Fill missing values\n",
    "filled_df = happiness_df.fillna({\n",
    "    'Happiness Score': happiness_df.select(avg('Happiness Score')).collect()[0][0]\n",
    "})\n",
    "\n",
    "# Remove duplicates\n",
    "unique_df = happiness_df.dropDuplicates()\n",
    "\n",
    "# Print counts\n",
    "print(f\"Original count: {happiness_df.count()}\")\n",
    "print(f\"After removing nulls: {cleaned_df.count()}\")\n",
    "print(f\"After removing duplicates: {unique_df.count()}\")"
   ]
  },
  {
   "cell_type": "markdown",
   "id": "e02016df",
   "metadata": {},
   "source": [
    "## 8. Best Practices and Tips\n",
    "\n",
    "Here are some important best practices when working with PySpark:\n",
    "\n",
    "1. Always clean up your SparkSession when done\n",
    "2. Use caching wisely for frequently accessed DataFrames\n",
    "3. Monitor your transformations using explain()\n",
    "4. Optimize your queries for better performance"
   ]
  },
  {
   "cell_type": "code",
   "execution_count": 14,
   "id": "274e4ff7",
   "metadata": {},
   "outputs": [
    {
     "name": "stdout",
     "output_type": "stream",
     "text": [
      "Execution Plan:\n",
      "== Physical Plan ==\n",
      "AdaptiveSparkPlan isFinalPlan=false\n",
      "+- Filter (isnotnull(avg_happiness#1848) AND (avg_happiness#1848 > 5.0))\n",
      "   +- HashAggregate(keys=[Country name#34], functions=[avg(Happiness Score#36)])\n",
      "      +- Exchange hashpartitioning(Country name#34, 200), ENSURE_REQUIREMENTS, [plan_id=458]\n",
      "         +- HashAggregate(keys=[Country name#34], functions=[partial_avg(Happiness Score#36)])\n",
      "            +- InMemoryTableScan [Country name#34, Happiness score#36]\n",
      "                  +- InMemoryRelation [Country name#34, Happiness Rank#35, Happiness score#36, Upperwhisker#37, Lowerwhisker#38, Economy (GDP per Capita)\t#39, Social support#40, Healthy life expectancy#41, Freedom to make life choices#42, Generosity#43, Perceptions of corruption#44], StorageLevel(disk, memory, deserialized, 1 replicas)\n",
      "                        +- FileScan csv [Country name#34,Happiness Rank#35,Happiness score#36,Upperwhisker#37,Lowerwhisker#38,Economy (GDP per Capita)\t#39,Social support#40,Healthy life expectancy#41,Freedom to make life choices#42,Generosity#43,Perceptions of corruption#44] Batched: false, DataFilters: [], Format: CSV, Location: InMemoryFileIndex(1 paths)[file:/c:/Users/HeskeyAmoakoFordjour/OneDrive - AmaliTech gGmbH/DE-labs..., PartitionFilters: [], PushedFilters: [], ReadSchema: struct<Country name:string,Happiness Rank:int,Happiness score:double,Upperwhisker:double,Lowerwhi...\n",
      "\n",
      "\n"
     ]
    }
   ],
   "source": [
    "# Example of explaining the execution plan\n",
    "df_cached = happiness_df.cache()\n",
    "\n",
    "# Show the execution plan\n",
    "complex_query = df_cached.groupBy(\"Country name\") \\\n",
    "    .agg(avg(\"Happiness Score\").alias(\"avg_happiness\")) \\\n",
    "    .filter(col(\"avg_happiness\") > 5.0)\n",
    "\n",
    "print(\"Execution Plan:\")\n",
    "complex_query.explain()\n",
    "\n",
    "# Clean up\n",
    "spark.stop()"
   ]
  }
 ],
 "metadata": {
  "kernelspec": {
   "display_name": "pyspark",
   "language": "python",
   "name": "python3"
  },
  "language_info": {
   "codemirror_mode": {
    "name": "ipython",
    "version": 3
   },
   "file_extension": ".py",
   "mimetype": "text/x-python",
   "name": "python",
   "nbconvert_exporter": "python",
   "pygments_lexer": "ipython3",
   "version": "3.13.0"
  }
 },
 "nbformat": 4,
 "nbformat_minor": 5
}
