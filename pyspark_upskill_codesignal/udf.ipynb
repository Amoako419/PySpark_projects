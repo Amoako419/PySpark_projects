{
 "cells": [
  {
   "cell_type": "markdown",
   "id": "f93bca53",
   "metadata": {},
   "source": [
    "## User Defined Functions"
   ]
  },
  {
   "cell_type": "code",
   "execution_count": 52,
   "id": "dd180eb5",
   "metadata": {},
   "outputs": [],
   "source": [
    "from pyspark.sql import SparkSession\n",
    "from pyspark.sql.functions import udf\n",
    "from pyspark.sql.types import StringType"
   ]
  },
  {
   "cell_type": "code",
   "execution_count": 53,
   "id": "afc9ae9b",
   "metadata": {},
   "outputs": [],
   "source": [
    "spark = SparkSession.builder.appName(\"Python UDF Example\").getOrCreate()"
   ]
  },
  {
   "cell_type": "code",
   "execution_count": 54,
   "id": "ffe74cf4",
   "metadata": {},
   "outputs": [
    {
     "data": {
      "text/html": [
       "\n",
       "            <div>\n",
       "                <p><b>SparkSession - in-memory</b></p>\n",
       "                \n",
       "        <div>\n",
       "            <p><b>SparkContext</b></p>\n",
       "\n",
       "            <p><a href=\"http://AMALITECH-PC-11075:4041\">Spark UI</a></p>\n",
       "\n",
       "            <dl>\n",
       "              <dt>Version</dt>\n",
       "                <dd><code>v3.5.3</code></dd>\n",
       "              <dt>Master</dt>\n",
       "                <dd><code>local[*]</code></dd>\n",
       "              <dt>AppName</dt>\n",
       "                <dd><code>Python UDF Example</code></dd>\n",
       "            </dl>\n",
       "        </div>\n",
       "        \n",
       "            </div>\n",
       "        "
      ],
      "text/plain": [
       "<pyspark.sql.session.SparkSession at 0x1b02d7fd7f0>"
      ]
     },
     "execution_count": 54,
     "metadata": {},
     "output_type": "execute_result"
    }
   ],
   "source": [
    "spark"
   ]
  },
  {
   "cell_type": "code",
   "execution_count": 55,
   "id": "a3763d47",
   "metadata": {},
   "outputs": [],
   "source": [
    "df = spark.read.csv(\"world_happiness_data/2021.csv\", header=True, inferSchema=True)"
   ]
  },
  {
   "cell_type": "code",
   "execution_count": 56,
   "id": "f441eb99",
   "metadata": {},
   "outputs": [
    {
     "name": "stdout",
     "output_type": "stream",
     "text": [
      "root\n",
      " |-- Country name: string (nullable = true)\n",
      " |-- Happiness Rank: integer (nullable = true)\n",
      " |-- Happiness score: double (nullable = true)\n",
      " |-- Upperwhisker: double (nullable = true)\n",
      " |-- Lowerwhisker: double (nullable = true)\n",
      " |-- Economy (GDP per Capita)\\t: double (nullable = true)\n",
      " |-- Social support: double (nullable = true)\n",
      " |-- Healthy life expectancy: double (nullable = true)\n",
      " |-- Freedom to make life choices: double (nullable = true)\n",
      " |-- Generosity: double (nullable = true)\n",
      " |-- Perceptions of corruption: double (nullable = true)\n",
      "\n"
     ]
    }
   ],
   "source": [
    "df.printSchema()"
   ]
  },
  {
   "cell_type": "code",
   "execution_count": 57,
   "id": "52468c50",
   "metadata": {},
   "outputs": [],
   "source": [
    "def get_happiness_score(happiness_score):\n",
    "    if happiness_score is None:\n",
    "        return \"Unknown\"\n",
    "    if happiness_score >= 7:\n",
    "        return \"Very Happy\"\n",
    "    elif happiness_score >= 5:\n",
    "        return \"Happy\"\n",
    "    elif happiness_score >= 3:\n",
    "        return \"Neutral\"\n",
    "    else:\n",
    "        return \"Unhappy\""
   ]
  },
  {
   "cell_type": "code",
   "execution_count": 58,
   "id": "32f762a7",
   "metadata": {},
   "outputs": [],
   "source": [
    "get_happiness_score_udf = udf(get_happiness_score, StringType())"
   ]
  },
  {
   "cell_type": "code",
   "execution_count": 59,
   "id": "1a1b5f17",
   "metadata": {},
   "outputs": [
    {
     "data": {
      "text/plain": [
       "<pyspark.sql.udf.UserDefinedFunction at 0x1b0306d3750>"
      ]
     },
     "execution_count": 59,
     "metadata": {},
     "output_type": "execute_result"
    }
   ],
   "source": [
    "spark.udf.register(\"get_happiness_score_udf\", get_happiness_score_udf)"
   ]
  },
  {
   "cell_type": "code",
   "execution_count": 60,
   "id": "bb083ba0",
   "metadata": {},
   "outputs": [],
   "source": [
    "query = \"\"\"\n",
    "SELECT `Country name`, `Happiness Score`, get_happiness_score_udf(`Happiness Score`) AS Happiness_Description\n",
    "FROM df\"\"\""
   ]
  },
  {
   "cell_type": "code",
   "execution_count": 61,
   "id": "759e140e",
   "metadata": {},
   "outputs": [],
   "source": [
    "df = df.createOrReplaceTempView(\"df\")"
   ]
  },
  {
   "cell_type": "code",
   "execution_count": 62,
   "id": "11dc83a0",
   "metadata": {},
   "outputs": [],
   "source": [
    "results_df = spark.sql(query)"
   ]
  }
 ],
 "metadata": {
  "kernelspec": {
   "display_name": "pyspark",
   "language": "python",
   "name": "python3"
  },
  "language_info": {
   "codemirror_mode": {
    "name": "ipython",
    "version": 3
   },
   "file_extension": ".py",
   "mimetype": "text/x-python",
   "name": "python",
   "nbconvert_exporter": "python",
   "pygments_lexer": "ipython3",
   "version": "3.13.0"
  }
 },
 "nbformat": 4,
 "nbformat_minor": 5
}
