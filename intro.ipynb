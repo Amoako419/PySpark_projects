{
 "cells": [
  {
   "cell_type": "code",
   "execution_count": 1,
   "id": "7ef78308-5d17-4b92-bafc-c7b16728ff82",
   "metadata": {},
   "outputs": [],
   "source": [
    "from pyspark.sql.types import (\n",
    "    DoubleType,\n",
    "    FloatType,\n",
    "    IntegerType,\n",
    "    LongType,\n",
    "    StringType,\n",
    "    StructField,\n",
    "    StructType,\n",
    ")"
   ]
  },
  {
   "cell_type": "code",
   "execution_count": 2,
   "id": "27a4c480-507d-4575-9880-c1417926405f",
   "metadata": {},
   "outputs": [],
   "source": [
    "from pyspark.sql import SparkSession"
   ]
  },
  {
   "cell_type": "code",
   "execution_count": 3,
   "id": "6e3936f7-f054-44b7-be09-9369716fbd65",
   "metadata": {},
   "outputs": [
    {
     "name": "stderr",
     "output_type": "stream",
     "text": [
      "25/05/10 19:49:18 WARN Utils: Your hostname, Amoakos-MacBook-Air.local resolves to a loopback address: 127.0.0.1; using 172.20.10.2 instead (on interface en0)\n",
      "25/05/10 19:49:18 WARN Utils: Set SPARK_LOCAL_IP if you need to bind to another address\n",
      "Setting default log level to \"WARN\".\n",
      "To adjust logging level use sc.setLogLevel(newLevel). For SparkR, use setLogLevel(newLevel).\n",
      "25/05/10 19:49:18 WARN NativeCodeLoader: Unable to load native-hadoop library for your platform... using builtin-java classes where applicable\n"
     ]
    }
   ],
   "source": [
    "spark = SparkSession.builder.appName(\"try app\").getOrCreate()"
   ]
  },
  {
   "cell_type": "code",
   "execution_count": 4,
   "id": "9b30a283-980c-4c03-bef5-2987e4872e00",
   "metadata": {},
   "outputs": [
    {
     "data": {
      "text/html": [
       "\n",
       "            <div>\n",
       "                <p><b>SparkSession - in-memory</b></p>\n",
       "                \n",
       "        <div>\n",
       "            <p><b>SparkContext</b></p>\n",
       "\n",
       "            <p><a href=\"http://172.20.10.2:4040\">Spark UI</a></p>\n",
       "\n",
       "            <dl>\n",
       "              <dt>Version</dt>\n",
       "                <dd><code>v3.5.5</code></dd>\n",
       "              <dt>Master</dt>\n",
       "                <dd><code>local[*]</code></dd>\n",
       "              <dt>AppName</dt>\n",
       "                <dd><code>try app</code></dd>\n",
       "            </dl>\n",
       "        </div>\n",
       "        \n",
       "            </div>\n",
       "        "
      ],
      "text/plain": [
       "<pyspark.sql.session.SparkSession at 0x1043667b0>"
      ]
     },
     "execution_count": 4,
     "metadata": {},
     "output_type": "execute_result"
    }
   ],
   "source": [
    "spark "
   ]
  },
  {
   "cell_type": "code",
   "execution_count": 5,
   "id": "1b117223-4891-4da0-80b2-8d8601d6ecff",
   "metadata": {},
   "outputs": [],
   "source": [
    "# schema = StructType(\n",
    "#         [\n",
    "#             StructField(\"artist_name\", StringType()),\n",
    "#             StructField(\"followers\", IntegerType()),\n",
    "#             StructField(\"artist_popularity\", IntegerType()),\n",
    "#             StructField(\"track_name\", StringType()),\n",
    "#             StructField(\"album_name\", StringType())\n",
    "#         ]\n",
    "#     )"
   ]
  },
  {
   "cell_type": "code",
   "execution_count": 6,
   "id": "b9a42b1a-2e88-4c9a-b38a-1e644c022aea",
   "metadata": {},
   "outputs": [],
   "source": [
    "df = spark.read.csv(\"spotifydataset.csv\", header=True, inferSchema=True)"
   ]
  },
  {
   "cell_type": "code",
   "execution_count": 7,
   "id": "0ae3f12b-f796-48a5-bae6-2b67278f8960",
   "metadata": {},
   "outputs": [
    {
     "name": "stdout",
     "output_type": "stream",
     "text": [
      "+---+-------------+------+---------+-----------------+--------------------+--------------------+--------------------+-------------------+-----------+--------+----------------+------------+------+---+--------+----+-----------+------------+----------------+--------+-------+-------+\n",
      "|_c0|  artist_name|genres|followers|artist_popularity|          artist_url|          track_name|          album_name|       release_date|duration_ms|explicit|track_popularity|danceability|energy|key|loudness|mode|speechiness|acousticness|instrumentalness|liveness|valence|  tempo|\n",
      "+---+-------------+------+---------+-----------------+--------------------+--------------------+--------------------+-------------------+-----------+--------+----------------+------------+------+---+--------+----+-----------+------------+----------------+--------+-------+-------+\n",
      "|  0|Ariana Grande|   pop| 98934105|               89|https://open.spot...|we can't be frien...|    eternal sunshine|2024-03-08 00:00:00|     228639|   false|              89|       0.645| 0.646|  5|  -8.334|   1|     0.0427|      0.0615|         3.04E-5|   0.074|  0.295|115.842|\n",
      "|  1|Ariana Grande|   pop| 98934105|               85|https://open.spot...|     the boy is mine|    eternal sunshine|2024-03-08 00:00:00|     173639|    true|              85|       0.795|  0.63|  7|  -5.854|   0|     0.0434|       0.157|             0.0|  0.0732|  0.447| 97.998|\n",
      "|  2|Ariana Grande|   pop| 98934105|               83|https://open.spot...|intro (end of the...|    eternal sunshine|2024-03-08 00:00:00|      92400|    true|              83|       0.506| 0.362| 10|   -9.48|   1|     0.0416|        0.67|             0.0|   0.176|  0.385| 84.726|\n",
      "|  3|Ariana Grande|   pop| 98934105|               80|https://open.spot...|Save Your Tears (...|After Hours (Deluxe)|2020-03-20 00:00:00|     191013|   false|              80|        0.65| 0.825|  0|  -4.645|   1|     0.0325|      0.0215|         2.44E-5|  0.0936|  0.593|118.091|\n",
      "|  4|Ariana Grande|   pop| 98934105|               79|https://open.spot...|           yes, and?|    eternal sunshine|2024-03-08 00:00:00|     214994|    true|              79|       0.787| 0.775|  1|  -6.614|   1|     0.0548|        0.19|         6.54E-5|   0.113|  0.787|118.998|\n",
      "+---+-------------+------+---------+-----------------+--------------------+--------------------+--------------------+-------------------+-----------+--------+----------------+------------+------+---+--------+----+-----------+------------+----------------+--------+-------+-------+\n",
      "only showing top 5 rows\n",
      "\n"
     ]
    },
    {
     "name": "stderr",
     "output_type": "stream",
     "text": [
      "25/05/10 19:49:22 WARN CSVHeaderChecker: CSV header does not conform to the schema.\n",
      " Header: , artist_name, genres, followers, artist_popularity, artist_url, track_name, album_name, release_date, duration_ms, explicit, track_popularity, danceability, energy, key, loudness, mode, speechiness, acousticness, instrumentalness, liveness, valence, tempo\n",
      " Schema: _c0, artist_name, genres, followers, artist_popularity, artist_url, track_name, album_name, release_date, duration_ms, explicit, track_popularity, danceability, energy, key, loudness, mode, speechiness, acousticness, instrumentalness, liveness, valence, tempo\n",
      "Expected: _c0 but found: \n",
      "CSV file: file:///Users/amoakoheskey/Desktop/spark-practice/spotifydataset.csv\n"
     ]
    }
   ],
   "source": [
    "df.show(5)"
   ]
  },
  {
   "cell_type": "code",
   "execution_count": 29,
   "id": "02bbbf4b-8d19-4371-9e79-87f909cb50dc",
   "metadata": {},
   "outputs": [
    {
     "data": {
      "text/plain": [
       "1000"
      ]
     },
     "execution_count": 29,
     "metadata": {},
     "output_type": "execute_result"
    }
   ],
   "source": [
    "df.count()"
   ]
  },
  {
   "cell_type": "code",
   "execution_count": 32,
   "id": "c7a254eb-39c5-4e30-a5b4-05fb0128921e",
   "metadata": {},
   "outputs": [
    {
     "data": {
      "text/plain": [
       "[('_c0', 'int'),\n",
       " ('artist_name', 'string'),\n",
       " ('genres', 'string'),\n",
       " ('followers', 'int'),\n",
       " ('artist_popularity', 'int'),\n",
       " ('artist_url', 'string'),\n",
       " ('track_name', 'string'),\n",
       " ('album_name', 'string'),\n",
       " ('release_date', 'timestamp'),\n",
       " ('duration_ms', 'int'),\n",
       " ('explicit', 'boolean'),\n",
       " ('track_popularity', 'int'),\n",
       " ('danceability', 'double'),\n",
       " ('energy', 'double'),\n",
       " ('key', 'int'),\n",
       " ('loudness', 'double'),\n",
       " ('mode', 'int'),\n",
       " ('speechiness', 'double'),\n",
       " ('acousticness', 'double'),\n",
       " ('instrumentalness', 'double'),\n",
       " ('liveness', 'double'),\n",
       " ('valence', 'double'),\n",
       " ('tempo', 'double')]"
      ]
     },
     "execution_count": 32,
     "metadata": {},
     "output_type": "execute_result"
    }
   ],
   "source": [
    "df.dtypes"
   ]
  },
  {
   "cell_type": "code",
   "execution_count": 35,
   "id": "05d9e963-00c2-46bb-aae7-9ef19e4dd56f",
   "metadata": {},
   "outputs": [],
   "source": [
    "df = df.drop('_c0')"
   ]
  },
  {
   "cell_type": "code",
   "execution_count": 36,
   "id": "9fa50468-d64e-4ab0-89e7-dd51b4ecf428",
   "metadata": {},
   "outputs": [
    {
     "data": {
      "text/plain": [
       "DataFrame[summary: string, artist_name: string, genres: string, followers: string, artist_popularity: string, artist_url: string, track_name: string, album_name: string, duration_ms: string, track_popularity: string, danceability: string, energy: string, key: string, loudness: string, mode: string, speechiness: string, acousticness: string, instrumentalness: string, liveness: string, valence: string, tempo: string]"
      ]
     },
     "execution_count": 36,
     "metadata": {},
     "output_type": "execute_result"
    }
   ],
   "source": [
    "df.describe()"
   ]
  },
  {
   "cell_type": "code",
   "execution_count": 8,
   "id": "11520a96-b0e9-4194-87fe-4127fee4476f",
   "metadata": {},
   "outputs": [],
   "source": [
    "df.createOrReplaceTempView('spotify')"
   ]
  },
  {
   "cell_type": "code",
   "execution_count": 9,
   "id": "ebff1c78-ce8d-4a4b-b89e-c895d1445f1a",
   "metadata": {},
   "outputs": [],
   "source": [
    "query = \"\"\"\n",
    "    select * from spotify limit 10;\n",
    "\"\"\""
   ]
  },
  {
   "cell_type": "code",
   "execution_count": 10,
   "id": "541d3a07-86e7-413a-bd5b-92f097e3966b",
   "metadata": {},
   "outputs": [
    {
     "name": "stdout",
     "output_type": "stream",
     "text": [
      "+---+-------------+------+---------+-----------------+--------------------+--------------------+--------------------+-------------------+-----------+--------+----------------+------------+------+---+--------+----+-----------+------------+----------------+--------+-------+-------+\n",
      "|_c0|  artist_name|genres|followers|artist_popularity|          artist_url|          track_name|          album_name|       release_date|duration_ms|explicit|track_popularity|danceability|energy|key|loudness|mode|speechiness|acousticness|instrumentalness|liveness|valence|  tempo|\n",
      "+---+-------------+------+---------+-----------------+--------------------+--------------------+--------------------+-------------------+-----------+--------+----------------+------------+------+---+--------+----+-----------+------------+----------------+--------+-------+-------+\n",
      "|  0|Ariana Grande|   pop| 98934105|               89|https://open.spot...|we can't be frien...|    eternal sunshine|2024-03-08 00:00:00|     228639|   false|              89|       0.645| 0.646|  5|  -8.334|   1|     0.0427|      0.0615|         3.04E-5|   0.074|  0.295|115.842|\n",
      "|  1|Ariana Grande|   pop| 98934105|               85|https://open.spot...|     the boy is mine|    eternal sunshine|2024-03-08 00:00:00|     173639|    true|              85|       0.795|  0.63|  7|  -5.854|   0|     0.0434|       0.157|             0.0|  0.0732|  0.447| 97.998|\n",
      "|  2|Ariana Grande|   pop| 98934105|               83|https://open.spot...|intro (end of the...|    eternal sunshine|2024-03-08 00:00:00|      92400|    true|              83|       0.506| 0.362| 10|   -9.48|   1|     0.0416|        0.67|             0.0|   0.176|  0.385| 84.726|\n",
      "|  3|Ariana Grande|   pop| 98934105|               80|https://open.spot...|Save Your Tears (...|After Hours (Deluxe)|2020-03-20 00:00:00|     191013|   false|              80|        0.65| 0.825|  0|  -4.645|   1|     0.0325|      0.0215|         2.44E-5|  0.0936|  0.593|118.091|\n",
      "|  4|Ariana Grande|   pop| 98934105|               79|https://open.spot...|           yes, and?|    eternal sunshine|2024-03-08 00:00:00|     214994|    true|              79|       0.787| 0.775|  1|  -6.614|   1|     0.0548|        0.19|         6.54E-5|   0.113|  0.787|118.998|\n",
      "|  5|Ariana Grande|   pop| 98934105|               82|https://open.spot...|       One Last Time|My Everything - D...|2014-08-22 00:00:00|     197266|   false|              82|       0.628| 0.593|  8|  -5.036|   1|     0.0323|       0.093|         1.65E-6|   0.096|  0.104|125.025|\n",
      "|  6|Ariana Grande|   pop| 98934105|               78|https://open.spot...|Die For You (with...|    Starboy (Deluxe)|2023-03-14 00:00:00|     232857|   false|              78|       0.568| 0.485|  1|  -7.635|   0|     0.0582|       0.276|             0.0|   0.323|  0.517| 66.961|\n",
      "|  7|Ariana Grande|   pop| 98934105|               82|https://open.spot...|             7 rings|       thank u, next|2019-02-08 00:00:00|     178626|    true|              82|       0.777| 0.317|  1| -10.732|   0|      0.308|       0.591|             0.0|  0.0881|   0.33|139.848|\n",
      "|  8|Ariana Grande|   pop| 98934105|               70|https://open.spot...|     Dangerous Woman|     Dangerous Woman|2016-05-20 00:00:00|     235946|   false|              70|       0.664| 0.602|  4|  -5.369|   0|     0.0412|      0.0529|             0.0|   0.356|  0.289|134.049|\n",
      "|  9|Ariana Grande|   pop| 98934105|               70|https://open.spot...|            Into You|     Dangerous Woman|2016-05-20 00:00:00|     244453|   false|              70|       0.623| 0.734|  9|  -5.948|   1|      0.107|      0.0162|         1.75E-6|   0.145|   0.37|107.853|\n",
      "+---+-------------+------+---------+-----------------+--------------------+--------------------+--------------------+-------------------+-----------+--------+----------------+------------+------+---+--------+----+-----------+------------+----------------+--------+-------+-------+\n",
      "\n"
     ]
    },
    {
     "name": "stderr",
     "output_type": "stream",
     "text": [
      "25/05/10 19:49:22 WARN CSVHeaderChecker: CSV header does not conform to the schema.\n",
      " Header: , artist_name, genres, followers, artist_popularity, artist_url, track_name, album_name, release_date, duration_ms, explicit, track_popularity, danceability, energy, key, loudness, mode, speechiness, acousticness, instrumentalness, liveness, valence, tempo\n",
      " Schema: _c0, artist_name, genres, followers, artist_popularity, artist_url, track_name, album_name, release_date, duration_ms, explicit, track_popularity, danceability, energy, key, loudness, mode, speechiness, acousticness, instrumentalness, liveness, valence, tempo\n",
      "Expected: _c0 but found: \n",
      "CSV file: file:///Users/amoakoheskey/Desktop/spark-practice/spotifydataset.csv\n"
     ]
    }
   ],
   "source": [
    "spark.sql(query).show()"
   ]
  },
  {
   "cell_type": "code",
   "execution_count": 11,
   "id": "8db0efe0-5578-4ef9-82fe-f62ace08893f",
   "metadata": {},
   "outputs": [],
   "source": [
    "from pyspark.sql.types import (\n",
    "    DoubleType,\n",
    "    FloatType,\n",
    "    IntegerType,\n",
    "    LongType,\n",
    "    StringType,\n",
    "    StructField,\n",
    "    StructType,\n",
    ")"
   ]
  },
  {
   "cell_type": "code",
   "execution_count": 12,
   "id": "2469fa24-999c-4de4-8e43-06811f5e23c6",
   "metadata": {},
   "outputs": [],
   "source": [
    "from pyspark.sql.functions import col,lit,from_unixtime,current_date, StructType"
   ]
  },
  {
   "cell_type": "code",
   "execution_count": 13,
   "id": "6e6eec85-69f1-4636-a535-61dda672e551",
   "metadata": {},
   "outputs": [],
   "source": [
    "artist = df.select('artist_name','followers','artist_popularity')"
   ]
  },
  {
   "cell_type": "code",
   "execution_count": 14,
   "id": "a543eb64-7827-41bb-86f9-c688f5fe5eda",
   "metadata": {},
   "outputs": [
    {
     "name": "stdout",
     "output_type": "stream",
     "text": [
      "+-------------+---------+-----------------+\n",
      "|  artist_name|followers|artist_popularity|\n",
      "+-------------+---------+-----------------+\n",
      "|Ariana Grande| 98934105|               89|\n",
      "|Ariana Grande| 98934105|               85|\n",
      "|Ariana Grande| 98934105|               83|\n",
      "|Ariana Grande| 98934105|               80|\n",
      "|Ariana Grande| 98934105|               79|\n",
      "+-------------+---------+-----------------+\n",
      "only showing top 5 rows\n",
      "\n"
     ]
    }
   ],
   "source": [
    "artist.show(5)"
   ]
  },
  {
   "cell_type": "code",
   "execution_count": 15,
   "id": "30afbdb0-ed4e-4fd4-b51e-519f5949c6d6",
   "metadata": {},
   "outputs": [
    {
     "name": "stdout",
     "output_type": "stream",
     "text": [
      "+--------------------+----------------------+\n",
      "|         artist_name|sum(artist_popularity)|\n",
      "+--------------------+----------------------+\n",
      "|         Addison Rae|                   407|\n",
      "|          Ayra Starr|                   702|\n",
      "|        Alessia Cara|                   638|\n",
      "|      Anderson .Paak|                   673|\n",
      "|                ABBA|                   761|\n",
      "|        Taylor Swift|                   857|\n",
      "|          A$AP Rocky|                   780|\n",
      "|        Romeo Santos|                   772|\n",
      "|             El Alfa|                   721|\n",
      "|                 AFI|                   532|\n",
      "|             Ava Max|                   737|\n",
      "|Johann Sebastian ...|                   522|\n",
      "|        Alan Jackson|                   634|\n",
      "|             Artemas|                   657|\n",
      "|                Alok|                   736|\n",
      "|      Ayesha Erotica|                   667|\n",
      "|               Asake|                   702|\n",
      "|     Adrianne Lenker|                   647|\n",
      "|           Aaron May|                   658|\n",
      "|              Alex G|                   698|\n",
      "+--------------------+----------------------+\n",
      "only showing top 20 rows\n",
      "\n"
     ]
    }
   ],
   "source": [
    "popular = artist.groupBy('artist_name').sum('artist_popularity').show()"
   ]
  },
  {
   "cell_type": "code",
   "execution_count": 16,
   "id": "0cd9b45c-4512-4e87-b0b7-192a500e904a",
   "metadata": {},
   "outputs": [
    {
     "name": "stdout",
     "output_type": "stream",
     "text": [
      "+--------------------+-----+\n",
      "|         artist_name|count|\n",
      "+--------------------+-----+\n",
      "|         Addison Rae|    7|\n",
      "|          Ayra Starr|   10|\n",
      "|        Alessia Cara|   10|\n",
      "|      Anderson .Paak|   10|\n",
      "|                ABBA|   10|\n",
      "|        Taylor Swift|   10|\n",
      "|          A$AP Rocky|   10|\n",
      "|        Romeo Santos|   10|\n",
      "|             El Alfa|   10|\n",
      "|                 AFI|   10|\n",
      "|             Ava Max|   10|\n",
      "|Johann Sebastian ...|   10|\n",
      "|        Alan Jackson|   10|\n",
      "|             Artemas|   10|\n",
      "|                Alok|   10|\n",
      "|      Ayesha Erotica|   10|\n",
      "|               Asake|   10|\n",
      "|     Adrianne Lenker|   10|\n",
      "|           Aaron May|   10|\n",
      "|              Alex G|   10|\n",
      "+--------------------+-----+\n",
      "only showing top 20 rows\n",
      "\n"
     ]
    }
   ],
   "source": [
    "followers = artist.groupBy('artist_name').count().show()"
   ]
  },
  {
   "cell_type": "code",
   "execution_count": 17,
   "id": "eb4c7903-2b37-4666-986c-816c661ae132",
   "metadata": {},
   "outputs": [],
   "source": [
    "tracks = df.select(\"track_name\", \"album_name\", \"release_date\",\"track_popularity\")"
   ]
  },
  {
   "cell_type": "code",
   "execution_count": null,
   "id": "40f77656-88fd-4859-90e9-4046215fa430",
   "metadata": {},
   "outputs": [],
   "source": []
  },
  {
   "cell_type": "code",
   "execution_count": 18,
   "id": "cebb3a66-18cb-4761-90b9-299628f4a014",
   "metadata": {},
   "outputs": [],
   "source": [
    "tracks_popular = tracks.groupBy('track_name').max(\"track_popularity\") "
   ]
  },
  {
   "cell_type": "code",
   "execution_count": 19,
   "id": "00bcc972-5258-41f0-9391-fc05f104b80b",
   "metadata": {},
   "outputs": [
    {
     "name": "stdout",
     "output_type": "stream",
     "text": [
      "+--------------------+---------------------+\n",
      "|          track_name|max(track_popularity)|\n",
      "+--------------------+---------------------+\n",
      "|               Volví|                   76|\n",
      "|           On My Way|                   72|\n",
      "|El Precio De La S...|                   77|\n",
      "|             Amazing|                   65|\n",
      "|   Gånglåt i femtakt|                   20|\n",
      "|Fluorescent Adole...|                   69|\n",
      "|     Silver And Cold|                   52|\n",
      "|The Days Of The P...|                   50|\n",
      "|Something to Rap ...|                   60|\n",
      "|             In Love|                   62|\n",
      "|            Soulmate|                   78|\n",
      "|Tears Dry On Thei...|                   73|\n",
      "|            Acapulco|                   65|\n",
      "|Hey Daddy (Daddy'...|                   78|\n",
      "|                Hype|                    0|\n",
      "|  Baby Don't Hurt Me|                   85|\n",
      "|A Horse with No Name|                   77|\n",
      "|El Ruido De Tus Z...|                   72|\n",
      "|       Summer's Back|                   73|\n",
      "|         Perspective|                    0|\n",
      "+--------------------+---------------------+\n",
      "only showing top 20 rows\n",
      "\n"
     ]
    }
   ],
   "source": [
    "tracks_popular.show()"
   ]
  },
  {
   "cell_type": "code",
   "execution_count": 20,
   "id": "ce110e65-c777-455a-ae0b-1787571f3e0d",
   "metadata": {},
   "outputs": [],
   "source": [
    "query = \"\"\" \n",
    "SELECT \n",
    "  track_name, \n",
    "  album_name, \n",
    "  MAX(track_popularity) AS max_popularity\n",
    "FROM tracks_table\n",
    "GROUP BY track_name, album_name\n",
    "ORDER BY max_popularity DESC\n",
    "LIMIT 10;\n",
    "\n",
    "\"\"\""
   ]
  },
  {
   "cell_type": "code",
   "execution_count": 21,
   "id": "c479bbbc-0f81-4351-99f6-8d1cc77c37b6",
   "metadata": {},
   "outputs": [],
   "source": [
    "tracks.createOrReplaceTempView(\"tracks_table\")"
   ]
  },
  {
   "cell_type": "code",
   "execution_count": 25,
   "id": "fb5ccb71-e1c1-4749-a43b-5682c0933e29",
   "metadata": {},
   "outputs": [],
   "source": [
    "max_popular = spark.sql(query)"
   ]
  },
  {
   "cell_type": "code",
   "execution_count": 26,
   "id": "788fdbfd-4c3f-4bad-b19e-77d7182836b8",
   "metadata": {},
   "outputs": [],
   "source": [
    "max_popular.write.parquet(\"max_popular\")"
   ]
  },
  {
   "cell_type": "code",
   "execution_count": 27,
   "id": "ad9d410e-cd4b-45b7-a1c8-5d0279cb516f",
   "metadata": {},
   "outputs": [],
   "source": [
    "max_df = spark.read.parquet(\"max_popular/max_popular.parquet\")"
   ]
  },
  {
   "cell_type": "code",
   "execution_count": 28,
   "id": "b3ef1abb-1969-4194-80e8-2908603db115",
   "metadata": {},
   "outputs": [
    {
     "name": "stdout",
     "output_type": "stream",
     "text": [
      "+--------------------+--------------------+--------------+\n",
      "|          track_name|          album_name|max_popularity|\n",
      "+--------------------+--------------------+--------------+\n",
      "|        Cruel Summer|               Lover|            92|\n",
      "|    I Wanna Be Yours|                  AM|            91|\n",
      "|we can't be frien...|    eternal sunshine|            89|\n",
      "|Fortnight (feat. ...|THE TORTURED POET...|            89|\n",
      "|I Can Do It With ...|THE TORTURED POET...|            87|\n",
      "|              august|            folklore|            87|\n",
      "|I Love You, I'm S...|    The Secret of Us|            87|\n",
      "|            fukumean|    a Gift & a Curse|            86|\n",
      "|You Shook Me All ...|       Back In Black|            86|\n",
      "|          Wake Me Up|                True|            86|\n",
      "+--------------------+--------------------+--------------+\n",
      "\n"
     ]
    }
   ],
   "source": [
    "max_df.show()"
   ]
  },
  {
   "cell_type": "code",
   "execution_count": 37,
   "id": "8767bf3f-2975-42cf-ac45-8dc1b2d5b5a9",
   "metadata": {},
   "outputs": [
    {
     "data": {
      "text/html": [
       "\n",
       "            <div>\n",
       "                <p><b>SparkSession - in-memory</b></p>\n",
       "                \n",
       "        <div>\n",
       "            <p><b>SparkContext</b></p>\n",
       "\n",
       "            <p><a href=\"http://172.20.10.2:4040\">Spark UI</a></p>\n",
       "\n",
       "            <dl>\n",
       "              <dt>Version</dt>\n",
       "                <dd><code>v3.5.5</code></dd>\n",
       "              <dt>Master</dt>\n",
       "                <dd><code>local[*]</code></dd>\n",
       "              <dt>AppName</dt>\n",
       "                <dd><code>try app</code></dd>\n",
       "            </dl>\n",
       "        </div>\n",
       "        \n",
       "            </div>\n",
       "        "
      ],
      "text/plain": [
       "<pyspark.sql.session.SparkSession at 0x1043667b0>"
      ]
     },
     "execution_count": 37,
     "metadata": {},
     "output_type": "execute_result"
    }
   ],
   "source": [
    "SparkSession.active()"
   ]
  },
  {
   "cell_type": "code",
   "execution_count": null,
   "id": "357229d2-e58d-4e27-b83d-e05b0b060322",
   "metadata": {},
   "outputs": [],
   "source": []
  }
 ],
 "metadata": {
  "kernelspec": {
   "display_name": "Python 3 (ipykernel)",
   "language": "python",
   "name": "python3"
  },
  "language_info": {
   "codemirror_mode": {
    "name": "ipython",
    "version": 3
   },
   "file_extension": ".py",
   "mimetype": "text/x-python",
   "name": "python",
   "nbconvert_exporter": "python",
   "pygments_lexer": "ipython3",
   "version": "3.13.3"
  }
 },
 "nbformat": 4,
 "nbformat_minor": 5
}
