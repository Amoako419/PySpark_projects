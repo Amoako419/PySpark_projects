{
 "cells": [
  {
   "cell_type": "code",
   "execution_count": 1,
   "id": "8defdde7",
   "metadata": {},
   "outputs": [
    {
     "name": "stdout",
     "output_type": "stream",
     "text": [
      "Requirement already satisfied: delta-spark in c:\\users\\heskeyamoakofordjour\\anaconda3\\envs\\pyspark\\lib\\site-packages (3.3.0)\n",
      "Requirement already satisfied: pyspark<3.6.0,>=3.5.3 in c:\\users\\heskeyamoakofordjour\\anaconda3\\envs\\pyspark\\lib\\site-packages (from delta-spark) (3.5.3)\n",
      "Requirement already satisfied: importlib-metadata>=1.0.0 in c:\\users\\heskeyamoakofordjour\\anaconda3\\envs\\pyspark\\lib\\site-packages (from delta-spark) (8.5.0)\n",
      "Requirement already satisfied: zipp>=3.20 in c:\\users\\heskeyamoakofordjour\\anaconda3\\envs\\pyspark\\lib\\site-packages (from importlib-metadata>=1.0.0->delta-spark) (3.21.0)\n",
      "Requirement already satisfied: py4j==0.10.9.7 in c:\\users\\heskeyamoakofordjour\\anaconda3\\envs\\pyspark\\lib\\site-packages (from pyspark<3.6.0,>=3.5.3->delta-spark) (0.10.9.7)\n",
      "Note: you may need to restart the kernel to use updated packages.\n"
     ]
    }
   ],
   "source": [
    "%pip install delta-spark"
   ]
  },
  {
   "cell_type": "code",
   "execution_count": 1,
   "id": "d66a37e8",
   "metadata": {},
   "outputs": [],
   "source": [
    "from pyspark.sql import SparkSession\n",
    "from delta import configure_spark_with_delta_pip\n"
   ]
  },
  {
   "cell_type": "code",
   "execution_count": 2,
   "id": "626359b9",
   "metadata": {},
   "outputs": [],
   "source": [
    "builder = SparkSession.builder.appName(\"DeltaLakeApp\") \\\n",
    "    .config(\"spark.sql.extensions\", \"io.delta.sql.DeltaSparkSessionExtension\") \\\n",
    "    .config(\"spark.sql.catalog.spark_catalog\", \"org.apache.spark.sql.delta.catalog.DeltaCatalog\") \\\n",
    "    .config(\"spark.jars.packages\", \"io.delta:delta-core_2.12:1.2.0\")"
   ]
  },
  {
   "cell_type": "code",
   "execution_count": null,
   "id": "5e5ce653",
   "metadata": {},
   "outputs": [],
   "source": [
    "import os\n",
    "os.environ[\"HADOOP_HOME\"] = \"C:\\\\path\\\\to\\\\hadoop\"  # Update this path to the folder where winutils.exe is located\n",
    "spark = configure_spark_with_delta_pip(builder).getOrCreate()"
   ]
  }
 ],
 "metadata": {
  "kernelspec": {
   "display_name": "pyspark",
   "language": "python",
   "name": "python3"
  },
  "language_info": {
   "codemirror_mode": {
    "name": "ipython",
    "version": 3
   },
   "file_extension": ".py",
   "mimetype": "text/x-python",
   "name": "python",
   "nbconvert_exporter": "python",
   "pygments_lexer": "ipython3",
   "version": "3.13.0"
  }
 },
 "nbformat": 4,
 "nbformat_minor": 5
}
